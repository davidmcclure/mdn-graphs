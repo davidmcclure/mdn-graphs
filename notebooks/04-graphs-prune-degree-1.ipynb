{
 "cells": [
  {
   "cell_type": "code",
   "execution_count": 1,
   "metadata": {
    "collapsed": false
   },
   "outputs": [],
   "source": [
    "from mdn.play import Play\n",
    "from mdn.utils import scan_paths"
   ]
  },
  {
   "cell_type": "code",
   "execution_count": 2,
   "metadata": {
    "collapsed": true
   },
   "outputs": [],
   "source": [
    "from IPython.display import display\n",
    "import os"
   ]
  },
  {
   "cell_type": "code",
   "execution_count": 4,
   "metadata": {
    "collapsed": true
   },
   "outputs": [],
   "source": [
    "def render_plays(in_dir, pattern, out_dir):\n",
    "    \n",
    "    for path in scan_paths(in_dir, pattern):\n",
    "    \n",
    "        try:\n",
    "\n",
    "            play = Play.from_tsv(path)\n",
    "            play.prune_betweenness_zero()\n",
    "\n",
    "            print(path)\n",
    "            gv = play.render_graphviz()\n",
    "            gv.render(os.path.basename(path), out_dir)\n",
    "            \n",
    "        except:\n",
    "            pass"
   ]
  },
  {
   "cell_type": "code",
   "execution_count": 11,
   "metadata": {
    "collapsed": false,
    "scrolled": false
   },
   "outputs": [
    {
     "name": "stdout",
     "output_type": "stream",
     "text": [
      "/Users/dclure/Projects/mdn-graphs/notebooks/corpus/shakespeare/com.1588.lll.xml.tsv\n",
      "/Users/dclure/Projects/mdn-graphs/notebooks/corpus/shakespeare/com.1589.com_err.xml.tsv\n",
      "/Users/dclure/Projects/mdn-graphs/notebooks/corpus/shakespeare/com.1590.two_gent.xml.tsv\n",
      "/Users/dclure/Projects/mdn-graphs/notebooks/corpus/shakespeare/com.1594.dream.xml.tsv\n",
      "/Users/dclure/Projects/mdn-graphs/notebooks/corpus/shakespeare/com.1597.m_wives.xml.tsv\n",
      "/Users/dclure/Projects/mdn-graphs/notebooks/corpus/shakespeare/com.1597.merchant.xml.tsv\n",
      "/Users/dclure/Projects/mdn-graphs/notebooks/corpus/shakespeare/com.1598.much_ado.xml.tsv\n",
      "/Users/dclure/Projects/mdn-graphs/notebooks/corpus/shakespeare/com.1599.as_you.xml.tsv\n",
      "/Users/dclure/Projects/mdn-graphs/notebooks/corpus/shakespeare/com.1601.t_night.xml.tsv\n",
      "/Users/dclure/Projects/mdn-graphs/notebooks/corpus/shakespeare/hist.1591.hen_vi_one.xml.tsv\n",
      "/Users/dclure/Projects/mdn-graphs/notebooks/corpus/shakespeare/hist.1591.hen_vi_three.xml.tsv\n",
      "/Users/dclure/Projects/mdn-graphs/notebooks/corpus/shakespeare/hist.1591.hen_vi_two.xml.tsv\n",
      "/Users/dclure/Projects/mdn-graphs/notebooks/corpus/shakespeare/hist.1593.rich_iii.xml.tsv\n",
      "/Users/dclure/Projects/mdn-graphs/notebooks/corpus/shakespeare/hist.1595.john.xml.tsv\n",
      "/Users/dclure/Projects/mdn-graphs/notebooks/corpus/shakespeare/hist.1596.hen_iv_one.xml.tsv\n",
      "/Users/dclure/Projects/mdn-graphs/notebooks/corpus/shakespeare/hist.1596.hen_iv_two.xml.tsv\n",
      "/Users/dclure/Projects/mdn-graphs/notebooks/corpus/shakespeare/hist.1599.hen_v.xml.tsv\n",
      "/Users/dclure/Projects/mdn-graphs/notebooks/corpus/shakespeare/hist.1612.hen_viii.xml.tsv\n",
      "/Users/dclure/Projects/mdn-graphs/notebooks/corpus/shakespeare/prob.1602.all_well.xml.tsv\n",
      "/Users/dclure/Projects/mdn-graphs/notebooks/corpus/shakespeare/prob.1602.troilus.xml.tsv\n",
      "/Users/dclure/Projects/mdn-graphs/notebooks/corpus/shakespeare/prob.1604.m_for_m.xml.tsv\n",
      "/Users/dclure/Projects/mdn-graphs/notebooks/corpus/shakespeare/rom.1608.pericles.xml.tsv\n",
      "/Users/dclure/Projects/mdn-graphs/notebooks/corpus/shakespeare/rom.1609.cymbelin.xml.tsv\n",
      "/Users/dclure/Projects/mdn-graphs/notebooks/corpus/shakespeare/rom.1610.win_tale.xml.tsv\n",
      "/Users/dclure/Projects/mdn-graphs/notebooks/corpus/shakespeare/rom.1611.tempest.xml.tsv\n",
      "/Users/dclure/Projects/mdn-graphs/notebooks/corpus/shakespeare/trag.1591.r_and_j.xml.tsv\n",
      "/Users/dclure/Projects/mdn-graphs/notebooks/corpus/shakespeare/trag.1592.titus.xml.tsv\n",
      "/Users/dclure/Projects/mdn-graphs/notebooks/corpus/shakespeare/trag.1599.j_caesar.xml.tsv\n",
      "/Users/dclure/Projects/mdn-graphs/notebooks/corpus/shakespeare/trag.1600.hamlet.xml.tsv\n",
      "/Users/dclure/Projects/mdn-graphs/notebooks/corpus/shakespeare/trag.1604.othello.xml.tsv\n",
      "/Users/dclure/Projects/mdn-graphs/notebooks/corpus/shakespeare/trag.1605.lear.xml.tsv\n",
      "/Users/dclure/Projects/mdn-graphs/notebooks/corpus/shakespeare/trag.1606.a_and_c.xml.tsv\n",
      "/Users/dclure/Projects/mdn-graphs/notebooks/corpus/shakespeare/trag.1606.macbeth.xml.tsv\n",
      "/Users/dclure/Projects/mdn-graphs/notebooks/corpus/shakespeare/trag.1607.timon.xml.tsv\n",
      "/Users/dclure/Projects/mdn-graphs/notebooks/corpus/shakespeare/trag.1608.coriolan.xml.tsv\n"
     ]
    }
   ],
   "source": [
    "render_plays('corpus/shakespeare', '\\.tsv', 'renders/shakespeare-betweenness-0')"
   ]
  },
  {
   "cell_type": "code",
   "execution_count": 12,
   "metadata": {
    "collapsed": false,
    "scrolled": false
   },
   "outputs": [
    {
     "name": "stdout",
     "output_type": "stream",
     "text": [
      "/Users/dclure/Projects/mdn-graphs/notebooks/corpus/ancient/Sophocles.Ajax.xls.tsv\n",
      "/Users/dclure/Projects/mdn-graphs/notebooks/corpus/ancient/Sophocles.Antigone.xls.tsv\n",
      "/Users/dclure/Projects/mdn-graphs/notebooks/corpus/ancient/Sophocles.Electra.xls.tsv\n",
      "/Users/dclure/Projects/mdn-graphs/notebooks/corpus/ancient/Sophocles.Oedipus at Colonus.xls.tsv\n",
      "/Users/dclure/Projects/mdn-graphs/notebooks/corpus/ancient/Sophocles.Oedipus Tyrannus.xls.tsv\n",
      "/Users/dclure/Projects/mdn-graphs/notebooks/corpus/ancient/Sophocles.Philoctetes.xls.tsv\n",
      "/Users/dclure/Projects/mdn-graphs/notebooks/corpus/ancient/Sophocles.Trachiniae.xls.tsv\n"
     ]
    }
   ],
   "source": [
    "render_plays('corpus/ancient', '\\Sophocles\\..+\\.tsv', 'renders/sophocles-betweenness-0')"
   ]
  },
  {
   "cell_type": "code",
   "execution_count": 13,
   "metadata": {
    "collapsed": false
   },
   "outputs": [
    {
     "name": "stdout",
     "output_type": "stream",
     "text": [
      "/Users/dclure/Projects/mdn-graphs/notebooks/corpus/ibsen/Ibsen.1877.PillarsofSociety.tsv\n",
      "/Users/dclure/Projects/mdn-graphs/notebooks/corpus/ibsen/Ibsen.1879.ADollsHouse.tsv\n",
      "/Users/dclure/Projects/mdn-graphs/notebooks/corpus/ibsen/Ibsen.1881.Ghosts.tsv\n",
      "/Users/dclure/Projects/mdn-graphs/notebooks/corpus/ibsen/Ibsen.1882.AnEnemyofthePeople.tsv\n",
      "/Users/dclure/Projects/mdn-graphs/notebooks/corpus/ibsen/Ibsen.1884.TheWildDuck.tsv\n",
      "/Users/dclure/Projects/mdn-graphs/notebooks/corpus/ibsen/Ibsen.1886.Rosmersholm.tsv\n",
      "/Users/dclure/Projects/mdn-graphs/notebooks/corpus/ibsen/Ibsen.1888.TheLadyfromtheSea.tsv\n",
      "/Users/dclure/Projects/mdn-graphs/notebooks/corpus/ibsen/Ibsen.1890.HeddaGabler.tsv\n",
      "/Users/dclure/Projects/mdn-graphs/notebooks/corpus/ibsen/Ibsen.1892.TheMasterBuilder.tsv\n",
      "/Users/dclure/Projects/mdn-graphs/notebooks/corpus/ibsen/Ibsen.1896.JohnGabrielBorkman.tsv\n",
      "/Users/dclure/Projects/mdn-graphs/notebooks/corpus/ibsen/Ibsen.1899.WhenWeDeadAwaken.tsv\n"
     ]
    }
   ],
   "source": [
    "render_plays('corpus/ibsen/', '\\.tsv', 'renders/ibsen-betweenness-0')"
   ]
  },
  {
   "cell_type": "code",
   "execution_count": 14,
   "metadata": {
    "collapsed": false
   },
   "outputs": [
    {
     "name": "stdout",
     "output_type": "stream",
     "text": [
      "/Users/dclure/Projects/mdn-graphs/notebooks/corpus/french17c/Racine.1664.La Thebaide.xls.tsv\n",
      "/Users/dclure/Projects/mdn-graphs/notebooks/corpus/french17c/Racine.1665.Alexandre_le_Grand.xls.tsv\n",
      "/Users/dclure/Projects/mdn-graphs/notebooks/corpus/french17c/Racine.1667.Andromaque.xls.tsv\n",
      "/Users/dclure/Projects/mdn-graphs/notebooks/corpus/french17c/Racine.1668.Les Plaideurs.xls.tsv\n",
      "/Users/dclure/Projects/mdn-graphs/notebooks/corpus/french17c/Racine.1669.Britannicus.xls.tsv\n",
      "/Users/dclure/Projects/mdn-graphs/notebooks/corpus/french17c/Racine.1670.Berenice.xls.tsv\n",
      "/Users/dclure/Projects/mdn-graphs/notebooks/corpus/french17c/Racine.1672.Bajazet.xls.tsv\n",
      "/Users/dclure/Projects/mdn-graphs/notebooks/corpus/french17c/Racine.1673.Mithridate.xls.tsv\n",
      "/Users/dclure/Projects/mdn-graphs/notebooks/corpus/french17c/Racine.1674.Iphigenie.xls.tsv\n",
      "/Users/dclure/Projects/mdn-graphs/notebooks/corpus/french17c/Racine.1677.Phedre.xls.tsv\n",
      "/Users/dclure/Projects/mdn-graphs/notebooks/corpus/french17c/Racine.1689.Esther.xls.tsv\n",
      "/Users/dclure/Projects/mdn-graphs/notebooks/corpus/french17c/Racine.1691.Athalie.xls.tsv\n"
     ]
    }
   ],
   "source": [
    "render_plays('corpus/french17c/', '\\Racine\\..+\\.tsv', 'renders/racine-betweenness-0')"
   ]
  },
  {
   "cell_type": "code",
   "execution_count": 15,
   "metadata": {
    "collapsed": false
   },
   "outputs": [
    {
     "name": "stdout",
     "output_type": "stream",
     "text": [
      "/Users/dclure/Projects/mdn-graphs/notebooks/corpus/french17c/Corneille.1629.Melite.xml.xls.tsv\n",
      "/Users/dclure/Projects/mdn-graphs/notebooks/corpus/french17c/Corneille.1630.Clitandre.xml.xls.tsv\n",
      "/Users/dclure/Projects/mdn-graphs/notebooks/corpus/french17c/Corneille.1631.La_Galerie_du_Palais.xml.xls.tsv\n",
      "/Users/dclure/Projects/mdn-graphs/notebooks/corpus/french17c/Corneille.1631.La_Veuve.xml.xls.tsv\n",
      "/Users/dclure/Projects/mdn-graphs/notebooks/corpus/french17c/Corneille.1634.La_Place_Royale.xml.xls.tsv\n",
      "/Users/dclure/Projects/mdn-graphs/notebooks/corpus/french17c/Corneille.1634.La_Suivante.xml.xls.tsv\n",
      "/Users/dclure/Projects/mdn-graphs/notebooks/corpus/french17c/Corneille.1636.l'Illusion comique.xml.xls.tsv\n",
      "/Users/dclure/Projects/mdn-graphs/notebooks/corpus/french17c/Corneille.1636.Medee.xml.xls.tsv\n",
      "/Users/dclure/Projects/mdn-graphs/notebooks/corpus/french17c/Corneille.1637.Le_Cid.xml.xls.tsv\n",
      "/Users/dclure/Projects/mdn-graphs/notebooks/corpus/french17c/Corneille.1639.Cinna.xml.xls.tsv\n",
      "/Users/dclure/Projects/mdn-graphs/notebooks/corpus/french17c/Corneille.1640.Horace.xml.xls.tsv\n",
      "/Users/dclure/Projects/mdn-graphs/notebooks/corpus/french17c/Corneille.1642.Heraclius_empereur_d'Orient.xls.tsv\n",
      "/Users/dclure/Projects/mdn-graphs/notebooks/corpus/french17c/Corneille.1642.Polyeucte_martyr.xls.tsv\n",
      "/Users/dclure/Projects/mdn-graphs/notebooks/corpus/french17c/Corneille.1643.Le_Menteur.xls.tsv\n",
      "/Users/dclure/Projects/mdn-graphs/notebooks/corpus/french17c/Corneille.1643.Pompee.xls.tsv\n",
      "/Users/dclure/Projects/mdn-graphs/notebooks/corpus/french17c/Corneille.1644.Rodogune_princesse_des_Parthes.xls.tsv\n",
      "/Users/dclure/Projects/mdn-graphs/notebooks/corpus/french17c/Corneille.1645.La_Suite_du_Menteur.xls.tsv\n",
      "/Users/dclure/Projects/mdn-graphs/notebooks/corpus/french17c/Corneille.1651.Nicomede.xls.tsv\n",
      "/Users/dclure/Projects/mdn-graphs/notebooks/corpus/french17c/Corneille.1659.Oedipe.xls.tsv\n",
      "/Users/dclure/Projects/mdn-graphs/notebooks/corpus/french17c/Corneille.1670.Tite_et_Berenice.xls.tsv\n",
      "/Users/dclure/Projects/mdn-graphs/notebooks/corpus/french17c/Corneille.1674.Surena.xls.tsv\n"
     ]
    }
   ],
   "source": [
    "render_plays('corpus/french17c/', '\\Corneille\\..+\\.tsv', 'renders/corneille-betweenness-0')"
   ]
  },
  {
   "cell_type": "code",
   "execution_count": null,
   "metadata": {
    "collapsed": true
   },
   "outputs": [],
   "source": []
  }
 ],
 "metadata": {
  "kernelspec": {
   "display_name": "Python 2",
   "language": "python",
   "name": "python2"
  },
  "language_info": {
   "codemirror_mode": {
    "name": "ipython",
    "version": 2
   },
   "file_extension": ".py",
   "mimetype": "text/x-python",
   "name": "python",
   "nbconvert_exporter": "python",
   "pygments_lexer": "ipython2",
   "version": "2.7.11"
  }
 },
 "nbformat": 4,
 "nbformat_minor": 2
}
