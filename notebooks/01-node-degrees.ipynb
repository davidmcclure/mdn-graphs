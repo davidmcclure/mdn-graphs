{
 "cells": [
  {
   "cell_type": "code",
   "execution_count": 1,
   "metadata": {
    "collapsed": true
   },
   "outputs": [],
   "source": [
    "from mdn.play import Play"
   ]
  },
  {
   "cell_type": "code",
   "execution_count": 2,
   "metadata": {
    "collapsed": true
   },
   "outputs": [],
   "source": [
    "hamlet = Play.from_tsv('corpus/shakespeare/trag.1600.hamlet.xml.tsv')"
   ]
  },
  {
   "cell_type": "code",
   "execution_count": 3,
   "metadata": {
    "collapsed": false,
    "scrolled": false
   },
   "outputs": [
    {
     "data": {
      "text/plain": [
       "[('GUILDENSTERN', 'QUEEN GERTRUDE', {'weight': 2}),\n",
       " ('GUILDENSTERN', 'KING CLAUDIUS', {'weight': 3}),\n",
       " ('GUILDENSTERN', 'HAMLET', {'weight': 24}),\n",
       " ('First Priest', 'LAERTES', {'weight': 2}),\n",
       " ('Gentleman', 'QUEEN GERTRUDE', {'weight': 2}),\n",
       " ('Gentleman', 'KING CLAUDIUS', {'weight': 1}),\n",
       " ('Messenger', 'KING CLAUDIUS', {'weight': 2}),\n",
       " ('LUCIANUS', 'LUCIANUS', {'weight': 1}),\n",
       " ('OSRIC', 'All', {'weight': 1}),\n",
       " ('OSRIC', 'LAERTES', {'weight': 2}),\n",
       " ('OSRIC', 'HAMLET', {'weight': 22}),\n",
       " ('Lord', 'HAMLET', {'weight': 3}),\n",
       " ('PRINCE FORTINBRAS', 'Soldiers', {'weight': 1}),\n",
       " ('PRINCE FORTINBRAS', 'HORATIO', {'weight': 3}),\n",
       " ('PRINCE FORTINBRAS', 'Captain', {'weight': 1}),\n",
       " ('PRINCE FORTINBRAS', 'All', {'weight': 1}),\n",
       " ('First Ambassador', 'HORATIO', {'weight': 1}),\n",
       " ('MARCELLUS', 'HORATIO', {'weight': 14}),\n",
       " ('MARCELLUS', 'FRANCISCO', {'weight': 2}),\n",
       " ('MARCELLUS', 'BERNARDO', {'weight': 4}),\n",
       " ('MARCELLUS', 'HAMLET', {'weight': 14}),\n",
       " ('ROSENCRANTZ', 'QUEEN GERTRUDE', {'weight': 3}),\n",
       " ('ROSENCRANTZ', 'GUILDENSTERN', {'weight': 2}),\n",
       " ('ROSENCRANTZ', 'KING CLAUDIUS', {'weight': 7}),\n",
       " ('ROSENCRANTZ', 'LORD POLONIUS', {'weight': 1}),\n",
       " ('ROSENCRANTZ', 'HAMLET', {'weight': 36}),\n",
       " ('Captain', 'PRINCE FORTINBRAS', {'weight': 1}),\n",
       " ('Captain', 'HAMLET', {'weight': 6}),\n",
       " ('Player King', 'Player Queen', {'weight': 4}),\n",
       " ('Ghost', 'HORATIO', {'weight': 4}),\n",
       " ('Ghost', 'HAMLET', {'weight': 10}),\n",
       " ('First Sailor', 'HORATIO', {'weight': 2}),\n",
       " ('HORATIO', 'Ghost', {'weight': 3}),\n",
       " ('HORATIO', 'MARCELLUS', {'weight': 13}),\n",
       " ('HORATIO', 'First Sailor', {'weight': 2}),\n",
       " ('HORATIO', 'FRANCISCO', {'weight': 1}),\n",
       " ('HORATIO', 'BERNARDO', {'weight': 4}),\n",
       " ('HORATIO', 'Servant', {'weight': 2}),\n",
       " ('HORATIO', 'HORATIO', {'weight': 3}),\n",
       " ('HORATIO', 'HAMLET', {'weight': 82}),\n",
       " ('HORATIO', 'OSRIC', {'weight': 1}),\n",
       " ('HORATIO', 'QUEEN GERTRUDE', {'weight': 1}),\n",
       " ('HORATIO', 'PRINCE FORTINBRAS', {'weight': 2}),\n",
       " ('HORATIO', 'First Ambassador', {'weight': 1}),\n",
       " ('BERNARDO', 'MARCELLUS', {'weight': 4}),\n",
       " ('BERNARDO', 'HORATIO', {'weight': 9}),\n",
       " ('BERNARDO', 'FRANCISCO', {'weight': 6}),\n",
       " ('Servant', 'HORATIO', {'weight': 1}),\n",
       " ('LAERTES', 'LORD POLONIUS', {'weight': 2}),\n",
       " ('LAERTES', 'OPHELIA', {'weight': 7}),\n",
       " ('LAERTES', 'LAERTES', {'weight': 8}),\n",
       " ('LAERTES', 'Danes', {'weight': 3}),\n",
       " ('LAERTES', 'HAMLET', {'weight': 12}),\n",
       " ('LAERTES', 'KING CLAUDIUS', {'weight': 24}),\n",
       " ('LAERTES', 'OSRIC', {'weight': 2}),\n",
       " ('LAERTES', 'First Priest', {'weight': 4}),\n",
       " ('LAERTES', 'QUEEN GERTRUDE', {'weight': 3}),\n",
       " ('HAMLET', 'Ghost', {'weight': 17}),\n",
       " ('HAMLET', 'MARCELLUS', {'weight': 6}),\n",
       " ('HAMLET', 'All', {'weight': 7}),\n",
       " ('HAMLET', 'Captain', {'weight': 6}),\n",
       " ('HAMLET', 'LORD POLONIUS', {'weight': 34}),\n",
       " ('HAMLET', 'ROSENCRANTZ', {'weight': 47}),\n",
       " ('HAMLET', 'OPHELIA', {'weight': 29}),\n",
       " ('HAMLET', 'LAERTES', {'weight': 16}),\n",
       " ('HAMLET', 'HORATIO', {'weight': 98}),\n",
       " ('HAMLET', 'GUILDENSTERN', {'weight': 15}),\n",
       " ('HAMLET', 'HAMLET', {'weight': 19}),\n",
       " ('HAMLET', 'Players', {'weight': 5}),\n",
       " ('HAMLET', 'KING CLAUDIUS', {'weight': 17}),\n",
       " ('HAMLET', 'OSRIC', {'weight': 20}),\n",
       " ('HAMLET', 'Lord', {'weight': 3}),\n",
       " ('HAMLET', 'QUEEN GERTRUDE', {'weight': 35}),\n",
       " ('HAMLET', 'LUCIANUS', {'weight': 1}),\n",
       " ('HAMLET', 'Attendants', {'weight': 1}),\n",
       " ('HAMLET', 'First Player', {'weight': 7}),\n",
       " ('HAMLET', 'First Clown', {'weight': 19}),\n",
       " ('Second Clown', 'First Clown', {'weight': 12}),\n",
       " ('Prologue', 'All', {'weight': 1}),\n",
       " ('First Player', 'First Player', {'weight': 3}),\n",
       " ('First Player', 'HAMLET', {'weight': 5}),\n",
       " ('First Clown', 'Second Clown', {'weight': 13}),\n",
       " ('First Clown', 'First Clown', {'weight': 4}),\n",
       " ('First Clown', 'HAMLET', {'weight': 18}),\n",
       " ('All', 'All', {'weight': 2}),\n",
       " ('All', 'HAMLET', {'weight': 2}),\n",
       " ('FRANCISCO', 'MARCELLUS', {'weight': 1}),\n",
       " ('FRANCISCO', 'HORATIO', {'weight': 2}),\n",
       " ('FRANCISCO', 'BERNARDO', {'weight': 6}),\n",
       " ('LORD POLONIUS', 'All', {'weight': 4}),\n",
       " ('LORD POLONIUS', 'LORD POLONIUS', {'weight': 4}),\n",
       " ('LORD POLONIUS', 'ROSENCRANTZ', {'weight': 1}),\n",
       " ('LORD POLONIUS', 'OPHELIA', {'weight': 15}),\n",
       " ('LORD POLONIUS', 'LAERTES', {'weight': 2}),\n",
       " ('LORD POLONIUS', 'REYNALDO', {'weight': 14}),\n",
       " ('LORD POLONIUS', 'HAMLET', {'weight': 31}),\n",
       " ('LORD POLONIUS', 'Players', {'weight': 1}),\n",
       " ('LORD POLONIUS', 'KING CLAUDIUS', {'weight': 18}),\n",
       " ('LORD POLONIUS', 'QUEEN GERTRUDE', {'weight': 6}),\n",
       " ('LORD POLONIUS', 'First Player', {'weight': 2}),\n",
       " ('OPHELIA', 'All', {'weight': 1}),\n",
       " ('OPHELIA', 'LORD POLONIUS', {'weight': 11}),\n",
       " ('OPHELIA', 'OPHELIA', {'weight': 4}),\n",
       " ('OPHELIA', 'LAERTES', {'weight': 8}),\n",
       " ('OPHELIA', 'HAMLET', {'weight': 27}),\n",
       " ('OPHELIA', 'KING CLAUDIUS', {'weight': 3}),\n",
       " ('OPHELIA', 'QUEEN GERTRUDE', {'weight': 4}),\n",
       " ('Danes', 'LAERTES', {'weight': 2}),\n",
       " ('Danes', 'Danes', {'weight': 1}),\n",
       " ('REYNALDO', 'LORD POLONIUS', {'weight': 13}),\n",
       " ('VOLTIMAND', 'KING CLAUDIUS', {'weight': 1}),\n",
       " ('KING CLAUDIUS', 'Attendants', {'weight': 5}),\n",
       " ('KING CLAUDIUS', 'All', {'weight': 4}),\n",
       " ('KING CLAUDIUS', 'HORATIO', {'weight': 2}),\n",
       " ('KING CLAUDIUS', 'LORD POLONIUS', {'weight': 12}),\n",
       " ('KING CLAUDIUS', 'ROSENCRANTZ', {'weight': 11}),\n",
       " ('KING CLAUDIUS', 'OPHELIA', {'weight': 3}),\n",
       " ('KING CLAUDIUS', 'LAERTES', {'weight': 34}),\n",
       " ('KING CLAUDIUS', 'Gentleman', {'weight': 1}),\n",
       " ('KING CLAUDIUS', 'HAMLET', {'weight': 22}),\n",
       " ('KING CLAUDIUS', 'VOLTIMAND', {'weight': 2}),\n",
       " ('KING CLAUDIUS', 'KING CLAUDIUS', {'weight': 5}),\n",
       " ('KING CLAUDIUS', 'OSRIC', {'weight': 1}),\n",
       " ('KING CLAUDIUS', 'QUEEN GERTRUDE', {'weight': 22}),\n",
       " ('KING CLAUDIUS', 'Messenger', {'weight': 3}),\n",
       " ('KING CLAUDIUS', 'CORNELIUS', {'weight': 2}),\n",
       " ('Player Queen', 'Player King', {'weight': 5}),\n",
       " ('QUEEN GERTRUDE', 'Attendants', {'weight': 1}),\n",
       " ('QUEEN GERTRUDE', 'GUILDENSTERN', {'weight': 1}),\n",
       " ('QUEEN GERTRUDE', 'LAERTES', {'weight': 7}),\n",
       " ('QUEEN GERTRUDE', 'LORD POLONIUS', {'weight': 3}),\n",
       " ('QUEEN GERTRUDE', 'ROSENCRANTZ', {'weight': 5}),\n",
       " ('QUEEN GERTRUDE', 'OPHELIA', {'weight': 4}),\n",
       " ('QUEEN GERTRUDE', 'HORATIO', {'weight': 1}),\n",
       " ('QUEEN GERTRUDE', 'Gentleman', {'weight': 2}),\n",
       " ('QUEEN GERTRUDE', 'All', {'weight': 1}),\n",
       " ('QUEEN GERTRUDE', 'HAMLET', {'weight': 33}),\n",
       " ('QUEEN GERTRUDE', 'KING CLAUDIUS', {'weight': 14}),\n",
       " ('QUEEN GERTRUDE', 'QUEEN GERTRUDE', {'weight': 3}),\n",
       " ('CORNELIUS', 'KING CLAUDIUS', {'weight': 1})]"
      ]
     },
     "execution_count": 3,
     "metadata": {},
     "output_type": "execute_result"
    }
   ],
   "source": [
    "hamlet.edges(data=True)"
   ]
  },
  {
   "cell_type": "code",
   "execution_count": null,
   "metadata": {
    "collapsed": true
   },
   "outputs": [],
   "source": []
  }
 ],
 "metadata": {
  "kernelspec": {
   "display_name": "Python 2",
   "language": "python",
   "name": "python2"
  },
  "language_info": {
   "codemirror_mode": {
    "name": "ipython",
    "version": 2
   },
   "file_extension": ".py",
   "mimetype": "text/x-python",
   "name": "python",
   "nbconvert_exporter": "python",
   "pygments_lexer": "ipython2",
   "version": "2.7.11"
  }
 },
 "nbformat": 4,
 "nbformat_minor": 2
}
